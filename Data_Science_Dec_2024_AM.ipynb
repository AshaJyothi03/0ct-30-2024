{
  "nbformat": 4,
  "nbformat_minor": 0,
  "metadata": {
    "colab": {
      "provenance": [],
      "include_colab_link": true
    },
    "kernelspec": {
      "name": "python3",
      "display_name": "Python 3"
    },
    "language_info": {
      "name": "python"
    }
  },
  "cells": [
    {
      "cell_type": "markdown",
      "metadata": {
        "id": "view-in-github",
        "colab_type": "text"
      },
      "source": [
        "<a href=\"https://colab.research.google.com/github/AshaJyothi03/0ct-30-2024/blob/main/Data_Science_Dec_2024_AM.ipynb\" target=\"_parent\"><img src=\"https://colab.research.google.com/assets/colab-badge.svg\" alt=\"Open In Colab\"/></a>"
      ]
    },
    {
      "cell_type": "code",
      "execution_count": null,
      "metadata": {
        "id": "wNKfYxHez2yV"
      },
      "outputs": [],
      "source": [
        "#distance and time are the list data structures\n",
        "distance=[15,10,20,30]\n",
        "time=[.60,.50,.20,.40]\n",
        "print(distance/time)\n",
        "#NOTE: list ds allows only operations on individual objects or elements\n",
        "#when u trying perform operations on all the elements at time. it does not support\n"
      ]
    },
    {
      "cell_type": "code",
      "source": [],
      "metadata": {
        "id": "U1sL0HWvOHMa"
      },
      "execution_count": null,
      "outputs": []
    },
    {
      "cell_type": "code",
      "source": [
        "#create a numpy array to overcome drawbacks of list data structures\n",
        "import numpy as np\n",
        "distance=[15,10,20,30]\n",
        "time=[.60,.50,.20,.40]\n",
        "np_distance=np.array(distance)\n",
        "print(np_distance)\n",
        "np_time=np.array(time)\n",
        "print(np_time)\n",
        "\n"
      ],
      "metadata": {
        "id": "FBNshOTA1FA7"
      },
      "execution_count": null,
      "outputs": []
    },
    {
      "cell_type": "code",
      "source": [
        "print(np_distance.ndim)\n",
        "print(np_distance.shape)"
      ],
      "metadata": {
        "id": "zpoGH-AkOIQ8"
      },
      "execution_count": null,
      "outputs": []
    },
    {
      "cell_type": "code",
      "source": [],
      "metadata": {
        "id": "LXmh4dJhOv3j"
      },
      "execution_count": null,
      "outputs": []
    },
    {
      "cell_type": "code",
      "source": [
        "#to calculate speed=distance/time\n",
        "speed=np_distance/np_time\n",
        "print(speed)"
      ],
      "metadata": {
        "id": "aIiPFcoB2J-E"
      },
      "execution_count": null,
      "outputs": []
    },
    {
      "cell_type": "markdown",
      "source": [
        "# DATE: 12/12/2024\n",
        "# NUMPY HANDSON PROGRAMS\n",
        "    LIST TO ARRAYS\n",
        "    ARRAY INDEXING\n",
        "    ARRAY SLICING\n",
        "    ARRAY RESHAPING\n"
      ],
      "metadata": {
        "id": "v9-RA5RDM1cb"
      }
    },
    {
      "cell_type": "code",
      "source": [
        "#CREATE 1 DIM ARRAY\n",
        "data=[100,200,300,400] #list ds\n"
      ],
      "metadata": {
        "id": "DQGOOUvEODA4"
      },
      "execution_count": null,
      "outputs": []
    },
    {
      "cell_type": "code",
      "source": [
        "from numpy import array\n",
        "data1_np=array(data)\n"
      ],
      "metadata": {
        "id": "aprzBfGEOU9j"
      },
      "execution_count": null,
      "outputs": []
    },
    {
      "cell_type": "code",
      "source": [
        "print(\"data created by list ds\",data)\n",
        "print(\"data created by numpy:\",data1_np)"
      ],
      "metadata": {
        "id": "goLeatgoPGHZ"
      },
      "execution_count": null,
      "outputs": []
    },
    {
      "cell_type": "code",
      "source": [
        "#PROPERTIES OF 1D Array: .shape, .size, .dim, .dtype\n",
        "print(data1_np.ndim)\n",
        "print(data1_np.shape)\n",
        "print(data1_np.size)\n",
        "print(data1_np.dtype)"
      ],
      "metadata": {
        "id": "33EZQryzQiNv"
      },
      "execution_count": null,
      "outputs": []
    },
    {
      "cell_type": "code",
      "source": [
        "#1D INDEXING\n",
        "print(data1_np[0])\n",
        "print(data1_np[-1])\n",
        "print(data1_np[:])"
      ],
      "metadata": {
        "id": "jL4W2sQPTwsp"
      },
      "execution_count": null,
      "outputs": []
    },
    {
      "cell_type": "markdown",
      "source": [],
      "metadata": {
        "id": "N4OTaceEQt4N"
      }
    },
    {
      "cell_type": "code",
      "source": [
        "#create 2 Dim array using list data structure\n",
        "data_2d_list=[[10,20],[30,40]] #nested list\n",
        "print(data_2d_list)\n"
      ],
      "metadata": {
        "id": "gJYdUWaYPilB"
      },
      "execution_count": null,
      "outputs": []
    },
    {
      "cell_type": "code",
      "source": [
        "data_2d_np=array(data_2d_list)\n",
        "print(data_2d_np)"
      ],
      "metadata": {
        "id": "BEySUFNJQFBB"
      },
      "execution_count": null,
      "outputs": []
    },
    {
      "cell_type": "code",
      "source": [
        "#properties of 2D ARRAY\n",
        "print(data_2d_np.ndim)\n",
        "print(data_2d_np.shape)\n",
        "print(data_2d_np.size)\n",
        "print(data_2d_np.dtype)\n"
      ],
      "metadata": {
        "id": "-2X4BgzTQeWU"
      },
      "execution_count": null,
      "outputs": []
    },
    {
      "cell_type": "code",
      "source": [
        "#2D DATA ARRAY INDEXING\n",
        "print(data_2d_np[0,0])\n",
        "print(data_2d_np[0,1])\n",
        "print(data_2d_np[1,0])\n",
        "print(data_2d_np[1,1])\n",
        "\n",
        "\n"
      ],
      "metadata": {
        "id": "AzxKKHauR_DC"
      },
      "execution_count": null,
      "outputs": []
    },
    {
      "cell_type": "code",
      "source": [
        "print(data_2d_np[1,]) #display 1st row\n",
        "print(data_2d_np[,2]) #to overcome drawback we go with slice operator"
      ],
      "metadata": {
        "id": "U05s-DVycoHj"
      },
      "execution_count": null,
      "outputs": []
    },
    {
      "cell_type": "code",
      "source": [
        "print(data_2d_np[0:1,0:1])\n",
        "print(data_2d_np[0:2,0:2])"
      ],
      "metadata": {
        "id": "UyCY5tVSdTTC"
      },
      "execution_count": null,
      "outputs": []
    },
    {
      "cell_type": "code",
      "source": [
        "''''''"
      ],
      "metadata": {
        "id": "Y143nHpJhwR4"
      },
      "execution_count": null,
      "outputs": []
    },
    {
      "cell_type": "code",
      "source": [
        "# 2D slicing data uisng Numpy\n",
        "from numpy import array\n",
        "data=array([[11,22,33],\n",
        "           [44,55,66],\n",
        "           [77,88,99]])\n",
        "#extract 11 from the above data\n",
        "print(data[0:1,0:1]) #fefore , : indicates from which row to which row"
      ],
      "metadata": {
        "id": "BpELDU0FxSNX"
      },
      "execution_count": null,
      "outputs": []
    },
    {
      "cell_type": "code",
      "source": [
        "#extract 44 from the data\n",
        "print(data[1:2,0:1])"
      ],
      "metadata": {
        "id": "Idrxlm6VzAFv"
      },
      "execution_count": null,
      "outputs": []
    },
    {
      "cell_type": "code",
      "source": [
        "#extract 55 from the data\n",
        "print(data[1:2,1:2])"
      ],
      "metadata": {
        "id": "ReD8lK5VzlSQ"
      },
      "execution_count": null,
      "outputs": []
    },
    {
      "cell_type": "code",
      "source": [
        "#extract 99 from the data\n",
        "print(data[2:3,2:3]) #99 [2,2]"
      ],
      "metadata": {
        "id": "B8BT3gukz7s7"
      },
      "execution_count": null,
      "outputs": []
    },
    {
      "cell_type": "code",
      "source": [
        "#extract all the rows and columns from the data\n",
        "print(data[0:3,0:3])"
      ],
      "metadata": {
        "id": "gNNDZ2J_0TTA"
      },
      "execution_count": null,
      "outputs": []
    },
    {
      "cell_type": "code",
      "source": [
        "#extract 2 row and all the elements to be\n",
        "print(data[2:3,0:3]) #or data[2,:]"
      ],
      "metadata": {
        "id": "EI96ctbG0xbd"
      },
      "execution_count": null,
      "outputs": []
    },
    {
      "cell_type": "code",
      "source": [
        "#extract 2 column, all the rows elements\n",
        "from numpy import vstack\n",
        "vdata=data[:,2]\n",
        "print(vstack(vdata))\n",
        "print(data[0:3,2:3])"
      ],
      "metadata": {
        "id": "GAc_Nxqm1-pq"
      },
      "execution_count": null,
      "outputs": []
    },
    {
      "cell_type": "code",
      "source": [
        "#split dataset for supervised learning algorithm as train dataset and test data\n",
        "#1st input features: split all the rows and all columns expect last column\n",
        "#target column as all the rows and last column"
      ],
      "metadata": {
        "id": "WIRfc5rI3Pzp"
      },
      "execution_count": null,
      "outputs": []
    },
    {
      "cell_type": "code",
      "source": [
        "dataset=array([[1,2,3,8,9],\n",
        "               [4,5,6,7,6],\n",
        "               [7,8,9,1,2],\n",
        "                [10,11,12,3,6],\n",
        "                 [14,15,16,17,18]])\n",
        "print(dataset[0:5,0:5])"
      ],
      "metadata": {
        "id": "jd80pzwd31aN"
      },
      "execution_count": null,
      "outputs": []
    },
    {
      "cell_type": "code",
      "source": [
        "#1st input features: split all the rows and all columns expect last column\n",
        "#method1\n",
        "print(\"method1\\n\")\n",
        "print(dataset[0:5,0:4])\n",
        "#method2:\n",
        "print(\"method2\\n\")\n",
        "print(dataset[:,:-1])"
      ],
      "metadata": {
        "id": "GJL_b1Ys4yiV"
      },
      "execution_count": null,
      "outputs": []
    },
    {
      "cell_type": "code",
      "source": [
        "#target column as all the rows and last column\n",
        "#traditional method\n",
        "print(\"logic1:\\n\")\n",
        "print(dataset[0:5,4:5])\n",
        "#method2\n",
        "print(\"logic2:\\n\")\n",
        "print(dataset[:,-1])"
      ],
      "metadata": {
        "id": "4orxjwdm7GZu"
      },
      "execution_count": null,
      "outputs": []
    },
    {
      "cell_type": "code",
      "source": [
        "#split as TRAIN DATA SAMPLE AND TEST DATA SAMPLE\n",
        "split=3"
      ],
      "metadata": {
        "id": "1lCB7RYN8HUK"
      },
      "execution_count": null,
      "outputs": []
    },
    {
      "cell_type": "code",
      "source": [
        "#train data:split dataset as all the rows from the begining to the split point\n",
        "#method1\n",
        "print(dataset[0:split,:])\n",
        "#method2"
      ],
      "metadata": {
        "id": "MpKXq9vx8Xoh"
      },
      "execution_count": null,
      "outputs": []
    },
    {
      "cell_type": "code",
      "source": [
        "#test data: all the rows starting from the split point to the end of the dimension.\n",
        "print(dataset[split:5,:])"
      ],
      "metadata": {
        "id": "rtjikVVk8hjl"
      },
      "execution_count": null,
      "outputs": []
    },
    {
      "cell_type": "code",
      "source": [
        "#reshaping  array\n",
        "data=array([1,2,3,4,5])\n",
        "print(data.shape)"
      ],
      "metadata": {
        "id": "oARpFNTB-euG"
      },
      "execution_count": null,
      "outputs": []
    },
    {
      "cell_type": "code",
      "source": [
        "#2D array\n",
        "d2_data=array([[10,20,50],\n",
        "               [30,40,60]])\n",
        "print(d2_data.shape)\n",
        "print(d2_data.shape[0])\n",
        "print(d2_data.shape[1])\n",
        "\n"
      ],
      "metadata": {
        "id": "6CXcfkKX-za5"
      },
      "execution_count": null,
      "outputs": []
    },
    {
      "cell_type": "code",
      "source": [
        "#demo about reshape() method\n",
        "dataset3=array([[1,2,3],\n",
        "                [4,5,6],\n",
        "                [7,8,9]]) #3x3 matrix\n",
        "\n"
      ],
      "metadata": {
        "id": "WeOnEftN_vjl"
      },
      "execution_count": null,
      "outputs": []
    },
    {
      "cell_type": "code",
      "source": [
        "#write a code to reshape dataset3 into 1 row and 9 columns using reshape method\n",
        "dataset4_reshaped=dataset3.reshape(1,9)\n",
        "print(dataset4_reshaped)\n",
        "print(dataset3)"
      ],
      "metadata": {
        "id": "MYaePWn8AWyh"
      },
      "execution_count": null,
      "outputs": []
    },
    {
      "cell_type": "code",
      "source": [
        "print(dataset3.shape)\n",
        "print(dataset4_reshaped.shape)"
      ],
      "metadata": {
        "id": "czVz55wMBLi3"
      },
      "execution_count": null,
      "outputs": []
    },
    {
      "cell_type": "code",
      "source": [
        "#write a code to reshape dataset3 into 9 row and 1 columns using reshape method\n"
      ],
      "metadata": {
        "id": "zuK8n6GcBeoo"
      },
      "execution_count": null,
      "outputs": []
    },
    {
      "cell_type": "markdown",
      "source": [
        "# DATE: 24/12/2024\n",
        "# TOPICS: NUMPY\n",
        "    1. Limitation of array arithmetic\n",
        "    2. array broad casting\n",
        "    3. Broadcasting in numpy\n",
        "    4. Limitations of broadcasting"
      ],
      "metadata": {
        "id": "cZz_6WfN_hXW"
      }
    },
    {
      "cell_type": "code",
      "source": [
        "#limitation of arithmetic using array\n",
        "from numpy import array\n",
        "a=[1,2,3]\n",
        "b=[4,5,6]\n",
        "c=a+b\n",
        "print(c)"
      ],
      "metadata": {
        "id": "9RlGl4qDAR6_"
      },
      "execution_count": null,
      "outputs": []
    },
    {
      "cell_type": "code",
      "source": [
        "#array broadcasting\n",
        "x=array([1,2,3,4,5])\n",
        "print(x)"
      ],
      "metadata": {
        "id": "tk0S1TSNAvEe"
      },
      "execution_count": null,
      "outputs": []
    },
    {
      "cell_type": "code",
      "source": [
        "y=array([4,5,6,7,8])\n",
        "print(y)"
      ],
      "metadata": {
        "id": "gAazYVR-A7n2"
      },
      "execution_count": null,
      "outputs": []
    },
    {
      "cell_type": "code",
      "source": [
        "#braodcast\n",
        "res=x+y\n",
        "print(res)"
      ],
      "metadata": {
        "id": "tHWr_bwKBEo2"
      },
      "execution_count": null,
      "outputs": []
    },
    {
      "cell_type": "code",
      "source": [
        "#broadcast scalar to 1D Array\n",
        "A=array([[1,2,3],\n",
        "        [4,5,6],\n",
        "        [8,8,9]])\n",
        "print(A)\n",
        "B=2\n",
        "#broadcast\n",
        "c=A*B\n",
        "print(c)"
      ],
      "metadata": {
        "id": "elp1jQuJKgdY"
      },
      "execution_count": null,
      "outputs": []
    },
    {
      "cell_type": "code",
      "source": [
        "#limitation of broadcasting\n",
        "g=array([[1,2,3],\n",
        "         [4,5,6]])\n",
        "h=array([1,2])\n",
        "print(g.shape)\n",
        "print(h.shape)\n",
        "res=g+h\n",
        "print(res)"
      ],
      "metadata": {
        "id": "pKFFJbvdLfZP"
      },
      "execution_count": null,
      "outputs": []
    },
    {
      "cell_type": "code",
      "source": [
        "#note:braodcasting is possible only when shape of each dimension in the arrays are equal or one has dimension size is 1"
      ],
      "metadata": {
        "id": "TEwZfWJeMYOH"
      },
      "execution_count": null,
      "outputs": []
    },
    {
      "cell_type": "markdown",
      "source": [
        "# TOPICS:\n",
        "  VECTOR ARITHMETIC\n",
        "  VECTOR DOT PRODUCT\n",
        "  VECTOR SCALAR MULTIPLICATION"
      ],
      "metadata": {
        "id": "VNH6_2_fM4pZ"
      }
    },
    {
      "cell_type": "code",
      "source": [],
      "metadata": {
        "id": "9-gVZir9NJxi"
      },
      "execution_count": null,
      "outputs": []
    },
    {
      "cell_type": "markdown",
      "source": [
        "## DATE: 04/01/2025\n",
        "# TOPIC: PANDAS MODULE\n",
        "    PART-1\n",
        "    1. What is pandas series data structure\n",
        "    2. what is data frame\n",
        "    3. creating data frames\n",
        "    4. loading CSV data files into data frame\n",
        "    5. basic methods for investigating /viewing data frame.\n",
        "    PART-2\n",
        "    6. Column filtering\n",
        "    7. row filtering\n",
        "    8. filtering /slicing\n",
        "    9. summarizing/aggregating data\n",
        "    10. creating new calculated fields"
      ],
      "metadata": {
        "id": "7stsN5-SnNsy"
      }
    },
    {
      "cell_type": "code",
      "source": [
        "#import relevant libraries /modules to handle data\n",
        "import pandas as pd\n",
        "import numpy as np\n",
        "import os"
      ],
      "metadata": {
        "id": "s8lhjumIou2K"
      },
      "execution_count": null,
      "outputs": []
    },
    {
      "cell_type": "code",
      "source": [
        "#creating series data structure: one dimensional array\n",
        "list1=[\"venkat\",\"srini\",\"manish\",\"jyothi\",\"lakshmi\"]\n",
        "s=pd.Series(list1)\n",
        "print(list1)\n",
        "print(s)"
      ],
      "metadata": {
        "id": "69anAP4Mp9vn"
      },
      "execution_count": null,
      "outputs": []
    },
    {
      "cell_type": "code",
      "source": [
        "#create series without usage of list data structure\n",
        "s1=pd.Series([\"venkat\",\"DATA SCIENCE\",\"Hyderabad\"])\n",
        "print(\"series data:\\n\",s1)\n"
      ],
      "metadata": {
        "id": "KH_NnyEeq1nb"
      },
      "execution_count": null,
      "outputs": []
    },
    {
      "cell_type": "code",
      "source": [
        "#create series along with index in a customized way\n",
        "s2=pd.Series([\"DR.VENKAT\",\"DSML\",\"HYDERABAD\"],index=[\"NAME OF THE TRAINER\",\"TECHNOLOGY\",\"LOCATION\"])\n",
        "print(\"Details about Trainer:\\n\",s2)"
      ],
      "metadata": {
        "id": "-g63v_yprdXH"
      },
      "execution_count": null,
      "outputs": []
    },
    {
      "cell_type": "code",
      "source": [
        "#data frame is the set of series become data frame\n",
        "#data frame is 2D data which means that its look like TABLE"
      ],
      "metadata": {
        "id": "ToWcN6_RvT6F"
      },
      "execution_count": null,
      "outputs": []
    },
    {
      "cell_type": "code",
      "source": [
        "df1=pd.DataFrame(columns=[\"NAME\",\"COURSE\",\"LOCATION\"])\n",
        "print(df1)\n",
        "df1.loc[0]=[\"DR.VENKAT\",\"AIML\",\"HYDERABAD\"]\n",
        "df1.loc[1]=[\"Mr. Tarun\",\"AWS\",\"HYDERABAD\"]\n",
        "df1.loc[2]=[\"Mrs.Sindhuja\",\"FSJ\",\"HYDERABAD\"]\n",
        "print(\"Details about Trainers:\\n\",df1)"
      ],
      "metadata": {
        "id": "If-808VIvlRP"
      },
      "execution_count": null,
      "outputs": []
    },
    {
      "cell_type": "code",
      "source": [
        "#create dataframe from a list of nested values\n",
        "list2=[[\"SRINI\",\"IOT\",\"HYD\"],[\"MANISH\",\"EMBEDDED SYSTEM\",\"HYD\"]]\n",
        "df2=pd.DataFrame(list2,columns=[\"NAME\",\"COURSE\",\"LOCATION\"])\n",
        "print(df2)"
      ],
      "metadata": {
        "id": "o4jyT57jxlsW"
      },
      "execution_count": null,
      "outputs": []
    },
    {
      "cell_type": "code",
      "source": [
        "#create a dataframe using numpy array with arange() and reshape()\n",
        "a=np.arange(15).reshape(3,5)\n",
        "print(a)\n",
        "df3=pd.DataFrame(a,columns=[\"A\",\"B\",\"C\",\"D\",\"E\"])\n",
        "print(df3)\n"
      ],
      "metadata": {
        "id": "kDVKO3q-yWKo"
      },
      "execution_count": null,
      "outputs": []
    },
    {
      "cell_type": "code",
      "source": [
        "#APPLY TRANSPOSE OF THE MATRIX\n",
        "df2.T"
      ],
      "metadata": {
        "id": "8P-qx46rzof8"
      },
      "execution_count": null,
      "outputs": []
    },
    {
      "cell_type": "code",
      "source": [
        "#IMPORT local machine data set into COLAB Notebook\n",
        "import io\n",
        "from google.colab import files\n",
        "uploaded=files.upload()\n"
      ],
      "metadata": {
        "id": "FnIddEzM0Xs_"
      },
      "execution_count": null,
      "outputs": []
    },
    {
      "cell_type": "code",
      "source": [
        "import pandas as pd\n",
        "df5=pd.read_csv(io.BytesIO(uploaded['MarketingData.csv']))\n",
        "print(df5)\n"
      ],
      "metadata": {
        "id": "CuAF6S3wVMDd"
      },
      "execution_count": null,
      "outputs": []
    },
    {
      "cell_type": "code",
      "source": [
        "df5.head(7) #head() method is defult call top 5 records from the data frame\n"
      ],
      "metadata": {
        "id": "dZmkbN_eWT3-"
      },
      "execution_count": null,
      "outputs": []
    },
    {
      "cell_type": "code",
      "source": [
        "#display bottom 5 records\n",
        "df5.tail()"
      ],
      "metadata": {
        "id": "ooCW7K3kWj9Y"
      },
      "execution_count": null,
      "outputs": []
    },
    {
      "cell_type": "code",
      "source": [
        "#display no.of columns in a data frame\n",
        "df5.shape[1]"
      ],
      "metadata": {
        "id": "_GKF3rjLYDWy"
      },
      "execution_count": null,
      "outputs": []
    },
    {
      "cell_type": "code",
      "source": [
        "#display no.of samples in data frame\n",
        "df5.shape[0]"
      ],
      "metadata": {
        "id": "jqZiiKLLYUfH"
      },
      "execution_count": null,
      "outputs": []
    },
    {
      "cell_type": "code",
      "source": [
        "#display information about metadata about data frame\n",
        "print(df5.info())"
      ],
      "metadata": {
        "id": "yvZ62_zUYgrA"
      },
      "execution_count": null,
      "outputs": []
    },
    {
      "cell_type": "code",
      "source": [
        "#dispaly sammary of statistics\n",
        "print(df5.describe())"
      ],
      "metadata": {
        "id": "JkWa24ycaKpZ"
      },
      "execution_count": null,
      "outputs": []
    },
    {
      "cell_type": "code",
      "source": [
        "#display top 50 samples\n",
        "df5.head(50)"
      ],
      "metadata": {
        "id": "LjVqMISVbCJz"
      },
      "execution_count": null,
      "outputs": []
    },
    {
      "cell_type": "code",
      "source": [
        "#display top 50 visitors column\n",
        "df5.Visitors.head(50)"
      ],
      "metadata": {
        "id": "CIj6jHirbNLl"
      },
      "execution_count": null,
      "outputs": []
    },
    {
      "cell_type": "code",
      "source": [
        "#DISPLAY TOP 15 SAMPLES RELATED MARKETING SPEND\n",
        "df5[\"Marketing Spend\"].head(15)"
      ],
      "metadata": {
        "id": "YJfTmGMnbzG8"
      },
      "execution_count": null,
      "outputs": []
    },
    {
      "cell_type": "code",
      "source": [
        "#DISPLAY TO 15 SAMPLES RELTED REVENUE GENERATED.?\n",
        "df5[\"Revenue\"].head(15)"
      ],
      "metadata": {
        "id": "Pg_6Ntf0b_E0"
      },
      "execution_count": null,
      "outputs": []
    },
    {
      "cell_type": "code",
      "source": [
        "#display 3 columns data from visitors, revenue,marketing spend\n",
        "df5[['Visitors','Revenue','Marketing Spend']].head(15)"
      ],
      "metadata": {
        "id": "MLHeGGoqc5hl"
      },
      "execution_count": null,
      "outputs": []
    },
    {
      "cell_type": "code",
      "source": [
        "#find the sum of values in visitors column\n",
        "print(\"sum of visitors:\\n\",df5.Visitors.sum())"
      ],
      "metadata": {
        "id": "EkPowKrJdnUM"
      },
      "execution_count": null,
      "outputs": []
    },
    {
      "cell_type": "code",
      "source": [
        "#find the sum of revenue in revenue column\n"
      ],
      "metadata": {
        "id": "BBNTFuEad_HA"
      },
      "execution_count": null,
      "outputs": []
    },
    {
      "cell_type": "code",
      "source": [
        "#find the sum of marketing spend"
      ],
      "metadata": {
        "id": "Hcgmhl8jeGuI"
      },
      "execution_count": null,
      "outputs": []
    },
    {
      "cell_type": "code",
      "source": [
        "#ROW FILTERING\n",
        "#Display rows from 0 to 4\n",
        "df5[0:5]"
      ],
      "metadata": {
        "id": "uSgCgyxgeYIs"
      },
      "execution_count": null,
      "outputs": []
    },
    {
      "cell_type": "code",
      "source": [
        "#display row from 0 to 8\n",
        "df5.loc[0:8]"
      ],
      "metadata": {
        "id": "zTC1qHRbekMD"
      },
      "execution_count": null,
      "outputs": []
    },
    {
      "cell_type": "code",
      "source": [
        "def head_cust(df):\n",
        "  print(df[0:10])\n"
      ],
      "metadata": {
        "id": "J_h0Szr5fKJh"
      },
      "execution_count": null,
      "outputs": []
    },
    {
      "cell_type": "code",
      "source": [
        "#call head_cust(df)\n",
        "\n",
        "head_cust(df5)"
      ],
      "metadata": {
        "id": "XrD8j2BpfM3E"
      },
      "execution_count": null,
      "outputs": []
    },
    {
      "cell_type": "code",
      "source": [],
      "metadata": {
        "id": "F6kQGRMWh0Es"
      },
      "execution_count": null,
      "outputs": []
    },
    {
      "cell_type": "code",
      "source": [
        "#write custom_tail() method\n",
        "def custom_tail(df):\n",
        "  print(df[-5:])\n"
      ],
      "metadata": {
        "id": "HHOSYbnIgBO1"
      },
      "execution_count": null,
      "outputs": []
    },
    {
      "cell_type": "code",
      "source": [
        "#call the function custom_tail()\n",
        "custom_tail(df5)"
      ],
      "metadata": {
        "id": "5ed2mc_DgVXV"
      },
      "execution_count": null,
      "outputs": []
    },
    {
      "cell_type": "code",
      "source": [
        "#display samples when the day_name is Monday\n",
        "print(df5[df5.Day_Name==\"Monday\"])"
      ],
      "metadata": {
        "id": "ymktnMG1iSiN"
      },
      "execution_count": null,
      "outputs": []
    },
    {
      "cell_type": "code",
      "source": [
        "#display samples from the DF5 where day_names are saturday and sunday\n",
        "print(df5[(df5.Day_Name==\"Saturday\")|(df5.Day_Name==\"Sunday\")])"
      ],
      "metadata": {
        "id": "jgE2Xui1i_Qj"
      },
      "execution_count": null,
      "outputs": []
    },
    {
      "cell_type": "code",
      "source": [
        "#display the samples from the data frame Marketing spend >1000 and promo==\"No promo\"\n",
        "print(df5[(df5[\"Marketing Spend\"]>1000)&(df5.Promo==\"No Promo\")])"
      ],
      "metadata": {
        "id": "m-6JxmLkjpzz"
      },
      "execution_count": null,
      "outputs": []
    },
    {
      "cell_type": "code",
      "source": [
        "#display the samples from the df5 where revenue is > 2000 and marketing spend is>1000\n",
        "print(df5[(df5.Revenue>2000)&(df5[\"Marketing Spend\"]>1000)])\n"
      ],
      "metadata": {
        "id": "LH_O0-dYkXo8"
      },
      "execution_count": null,
      "outputs": []
    },
    {
      "cell_type": "code",
      "source": [
        "#display DF5 samples in sorted order with date column\n",
        "print(df5.sort_values(by=\"Date\",ascending=False).head(10))"
      ],
      "metadata": {
        "id": "WZultYfIlB7N"
      },
      "execution_count": null,
      "outputs": []
    },
    {
      "cell_type": "markdown",
      "source": [
        "# MATPLOTLIB MODULE\n",
        "    USED TO VISUALIZATION\n",
        "    GRAPHS\n",
        "    --import matplotlib\n",
        "    --show()\n",
        "    --legend()\n",
        "    --xlabel()\n",
        "    --title()\n",
        "    --ylabel()"
      ],
      "metadata": {
        "id": "i1RBYlo4b4S9"
      }
    },
    {
      "cell_type": "code",
      "source": [
        "#display line graph age vs weight using matplotlib\n",
        "import matplotlib.pyplot as plt\n",
        "age=[20,21,19,22,23,25,30]\n",
        "weight=[45,20,40,52,25,60,25]\n",
        "plt.plot(age,weight)\n",
        "plt.show()"
      ],
      "metadata": {
        "id": "oe_nhsGccpcr"
      },
      "execution_count": null,
      "outputs": []
    },
    {
      "cell_type": "code",
      "source": [
        "#use or apply xlabel and ylable and title for the above graph\n"
      ],
      "metadata": {
        "id": "qZwW-0SWfouC"
      },
      "execution_count": null,
      "outputs": []
    },
    {
      "cell_type": "code",
      "source": [
        "import matplotlib.pyplot as plt\n",
        "age=[20,21,22,23,25,30]\n",
        "weight=[45,46,47,52,55,60]\n",
        "plt.plot(age,weight)\n",
        "plt.xlabel(\"AGE OF THE PERSON\")\n",
        "plt.ylabel(\"Weight of the PERSON\")\n",
        "plt.title(\"AGE VS WEIGHT\")\n",
        "plt.show()"
      ],
      "metadata": {
        "id": "sIDO6evifxzF"
      },
      "execution_count": null,
      "outputs": []
    },
    {
      "cell_type": "code",
      "source": [
        "#TO THE ABOVE SCENARIO ADDITIONALLY TAKE HEIGHT OF THE CANDIDATE AND DISPLAY X-AXIS IS AGE AND Y AND Z A AXIS ON Y LABEL\n",
        "import matplotlib.pyplot as plt\n",
        "age=[20,21,22,23,25,30]\n",
        "weight=[45,46,47,52,55,60]\n",
        "height=[150,155,160,165,170,175]\n",
        "plt.plot(age,weight) #age vs weight\n",
        "plt.plot(age,height)#age vs height\n",
        "plt.xlabel(\"AGE OF THE PERSON\")\n",
        "plt.ylabel(\"Weight & Height of the PERSON\")\n",
        "plt.title(\"AGE VS WEIGHT vs HEIGHT\")\n",
        "plt.show()"
      ],
      "metadata": {
        "id": "e_B_HPGTjiYO"
      },
      "execution_count": null,
      "outputs": []
    },
    {
      "cell_type": "code",
      "source": [
        "#add the legend to the above graph: legend is used to indicate which color is for what feature\n",
        "#TO THE ABOVE SCENARIO ADDITIONALLY TAKE HEIGHT OF THE CANDIDATE AND DISPLAY X-AXIS IS AGE AND Y AND Z A AXIS ON Y LABEL\n",
        "import matplotlib.pyplot as plt\n",
        "age=[20,21,22,23,25,30]\n",
        "weight=[45,46,47,52,55,60]\n",
        "height=[150,155,160,165,170,175]\n",
        "plt.plot(age,weight) #age vs weight\n",
        "plt.plot(age,height)#age vs height\n",
        "plt.xlabel(\"AGE OF THE PERSON\")\n",
        "plt.ylabel(\"Weight & Height of the PERSON\")\n",
        "plt.title(\"AGE VS WEIGHT vs HEIGHT\")\n",
        "plt.legend([\"WEIGHT\",\"HEIGHT\"])\n",
        "plt.show()"
      ],
      "metadata": {
        "id": "CmLkX924ktDF"
      },
      "execution_count": null,
      "outputs": []
    },
    {
      "cell_type": "markdown",
      "source": [
        "# COLOR AND FONTS AND PLOT REPRESENTATION"
      ],
      "metadata": {
        "id": "NLY-0MZwldbT"
      }
    },
    {
      "cell_type": "code",
      "source": [
        "#add the legend to the above graph: legend is used to indicate which color is for what feature\n",
        "#TO THE ABOVE SCENARIO ADDITIONALLY TAKE HEIGHT OF THE CANDIDATE AND DISPLAY X-AXIS IS AGE AND Y AND Z A AXIS ON Y LABEL\n",
        "import matplotlib.pyplot as plt\n",
        "age=[20,21,22,23,25,30]\n",
        "weight=[45,46,47,52,55,60]\n",
        "height=[150,155,160,165,170,175]\n",
        "plt.plot(age,weight,label='weight',color=\"m\") #age vs weight\n",
        "plt.plot(age,height,label=\"height\",color=\"y\")#age vs height\n",
        "plt.xlabel(\"AGE OF THE PERSON\")\n",
        "plt.ylabel(\"Weight & Height of the PERSON\")\n",
        "plt.title(\"AGE VS WEIGHT vs HEIGHT\")\n",
        "plt.legend([\"WEIGHT\",\"HEIGHT\"])\n",
        "plt.show()"
      ],
      "metadata": {
        "id": "D9ivMRjrmpaC"
      },
      "execution_count": null,
      "outputs": []
    },
    {
      "cell_type": "code",
      "source": [
        "#use markers to specify intersect point in the graph\n",
        "#add the legend to the above graph: legend is used to indicate which color is for what feature\n",
        "#TO THE ABOVE SCENARIO ADDITIONALLY TAKE HEIGHT OF THE CANDIDATE AND DISPLAY X-AXIS IS AGE AND Y AND Z A AXIS ON Y LABEL\n",
        "import matplotlib.pyplot as plt\n",
        "age=[20,21,22,23,25,30]\n",
        "weight=[45,46,47,52,55,60]\n",
        "height=[150,155,160,165,170,175]\n",
        "plt.plot(age,weight,label='weight',color=\"m\",marker='p') #age vs weight\n",
        "plt.plot(age,height,label=\"height\",color=\"y\", marker='s')#age vs height\n",
        "plt.xlabel(\"AGE OF THE PERSON\")\n",
        "plt.ylabel(\"Weight & Height of the PERSON\")\n",
        "plt.title(\"AGE VS WEIGHT vs HEIGHT\")\n",
        "plt.legend([\"WEIGHT\",\"HEIGHT\"])\n",
        "plt.show()"
      ],
      "metadata": {
        "id": "eGyeI6SxngVH"
      },
      "execution_count": null,
      "outputs": []
    },
    {
      "cell_type": "code",
      "source": [],
      "metadata": {
        "id": "6nglpuu3obrX"
      },
      "execution_count": null,
      "outputs": []
    },
    {
      "cell_type": "markdown",
      "source": [
        "# LINE STYLE IN GRAPH\n",
        "    "
      ],
      "metadata": {
        "id": "H2lyvC-AoOyj"
      }
    },
    {
      "cell_type": "markdown",
      "metadata": {
        "id": "bBpJz9vLG--t"
      },
      "source": [
        "* linestyle =>{'-', '--', '-.', ':', '', (offset, on-off-seq), ...}\n",
        "* linewidth =>float"
      ]
    },
    {
      "cell_type": "code",
      "source": [
        "#use markers to specify intersect point in the graph\n",
        "#add the legend to the above graph: legend is used to indicate which color is for what feature\n",
        "#TO THE ABOVE SCENARIO ADDITIONALLY TAKE HEIGHT OF THE CANDIDATE AND DISPLAY X-AXIS IS AGE AND Y AND Z A AXIS ON Y LABEL\n",
        "import matplotlib.pyplot as plt\n",
        "age=[20,21,22,23,25,30]\n",
        "weight=[45,46,47,52,55,60]\n",
        "height=[150,155,160,165,170,175]\n",
        "plt.plot(age,weight,label='weight',color=\"m\",marker='p',linestyle=\"--\") #age vs weight\n",
        "plt.plot(age,height,label=\"height\",color=\"y\", marker='s',linestyle=\":\")#age vs height\n",
        "plt.xlabel(\"AGE OF THE PERSON\")\n",
        "plt.ylabel(\"Weight & Height of the PERSON\")\n",
        "plt.title(\"AGE VS WEIGHT vs HEIGHT\")\n",
        "plt.legend([\"WEIGHT\",\"HEIGHT\"])\n",
        "plt.show()"
      ],
      "metadata": {
        "id": "L-GSOU-Roc7R"
      },
      "execution_count": null,
      "outputs": []
    },
    {
      "cell_type": "code",
      "source": [
        "#line width in the graph\n",
        "#use markers to specify intersect point in the graph\n",
        "#add the legend to the above graph: legend is used to indicate which color is for what feature\n",
        "#TO THE ABOVE SCENARIO ADDITIONALLY TAKE HEIGHT OF THE CANDIDATE AND DISPLAY X-AXIS IS AGE AND Y AND Z A AXIS ON Y LABEL\n",
        "import matplotlib.pyplot as plt\n",
        "age=[20,21,22,23,25,30]\n",
        "weight=[45,46,47,52,55,60]\n",
        "height=[150,155,160,165,170,175]\n",
        "plt.plot(age,weight,label='weight',color=\"m\",marker='p',linestyle=\"--\",linewidth=2) #age vs weight\n",
        "plt.plot(age,height,label=\"height\",color=\"y\", marker='s',linestyle=\":\",linewidth=2)#age vs height\n",
        "plt.xlabel(\"AGE OF THE PERSON\")\n",
        "plt.ylabel(\"Weight & Height of the PERSON\")\n",
        "plt.title(\"AGE VS WEIGHT vs HEIGHT\")\n",
        "plt.legend([\"WEIGHT\",\"HEIGHT\"])\n",
        "plt.show()"
      ],
      "metadata": {
        "id": "V0bNQvjOpmoD"
      },
      "execution_count": null,
      "outputs": []
    },
    {
      "cell_type": "code",
      "source": [
        "#use grid() function to make entrire graph as rows and columns\n",
        "#use markers to specify intersect point in the graph\n",
        "#add the legend to the above graph: legend is used to indicate which color is for what feature\n",
        "#TO THE ABOVE SCENARIO ADDITIONALLY TAKE HEIGHT OF THE CANDIDATE AND DISPLAY X-AXIS IS AGE AND Y AND Z A AXIS ON Y LABEL\n",
        "import matplotlib.pyplot as plt\n",
        "age=[20,21,22,23,25,30]\n",
        "weight=[45,46,47,52,55,60]\n",
        "height=[150,155,160,165,170,175]\n",
        "plt.plot(age,weight,label='weight',color=\"m\",marker='p',linestyle=\"--\") #age vs weight\n",
        "plt.plot(age,height,label=\"height\",color=\"y\", marker='s',linestyle=\":\")#age vs height\n",
        "plt.xlabel(\"AGE OF THE PERSON\")\n",
        "plt.ylabel(\"Weight & Height of the PERSON\")\n",
        "plt.title(\"AGE VS WEIGHT vs HEIGHT\")\n",
        "plt.legend([\"WEIGHT\",\"HEIGHT\"])\n",
        "plt.grid(linewidth=2,color='c',linestyle=':')\n",
        "plt.show()"
      ],
      "metadata": {
        "id": "ZlMj2RV_qXZ5"
      },
      "execution_count": null,
      "outputs": []
    },
    {
      "cell_type": "markdown",
      "source": [
        "# PIE CHART:\n",
        "    WHERE the slices will be ordered and plotted counter clock wise\n",
        "    "
      ],
      "metadata": {
        "id": "-tOkWPW3rPDN"
      }
    },
    {
      "cell_type": "code",
      "source": [
        "branches=[\"CSE\",\"ECE\",\"EEE\",\"MECH\",\"CIVIL\",\"AIML\",\"DSML\",\"CYBER SECURITY\",\"IOT\"]\n",
        "pass_percentages=[80,82,85,65,55,75,78,59,82]\n",
        "plt.pie(pass_percentages,labels=branches,autopct='%1.1f%%')\n",
        "#plt.legend()\n",
        "plt.show()"
      ],
      "metadata": {
        "id": "umZtHnvtrbyR"
      },
      "execution_count": null,
      "outputs": []
    },
    {
      "cell_type": "code",
      "source": [
        "#sub plot concept\n",
        "#builtin method: plt.subplot(nrows,ncolms,index)\n",
        "from matplotlib import pyplot as plt\n",
        "weight=[45,46,47,52,55,60]\n",
        "height=[1.50,1.55,1.60,1.65,1.70,1.75]\n",
        "plt.title(\"First Plot\")\n",
        "plt.subplot(1,2,1)\n",
        "plt.plot(height,weight)\n",
        "plt.xlabel(\"HEIGHT\")\n",
        "plt.ylabel(\"WEIGHT\")\n",
        "plt.title(\"HEIGHT VS WEIGHT\")\n",
        "plt.subplot(1,2,2)\n",
        "plt.plot(weight,height)\n"
      ],
      "metadata": {
        "id": "AR4lwN5rhIfe"
      },
      "execution_count": null,
      "outputs": []
    },
    {
      "cell_type": "code",
      "source": [
        "#demo about ggplot\n",
        "from matplotlib import pyplot as plt\n",
        "from matplotlib import style\n",
        "style.use('ggplot')\n",
        "x=[5,8,18]\n",
        "y=[12,16,6]\n",
        "x2=[6,9,10]\n",
        "y2=[6,15,7]\n",
        "plt.plot(x,y,'g',label='line one',linewidth=5)\n",
        "plt.plot(x2,y2,'c',label='line two',linewidth=5)\n",
        "plt.title(\"Line Plot\")\n",
        "plt.xlabel(\"X axis\")\n",
        "plt.ylabel(\"Y axis\")\n",
        "plt.legend()\n",
        "plt.grid(True,color='r')\n",
        "plt.show()"
      ],
      "metadata": {
        "id": "IC6oIZDDjyiS"
      },
      "execution_count": null,
      "outputs": []
    },
    {
      "cell_type": "code",
      "source": [
        "#BAR GRAPH represnts data with two properties about any entities\n",
        "#ax.bar(x,hight,width,bttom,align)\n",
        "'''--here axes label is a region of the image with data space\n",
        "--an axes object is added to figure by the add_axes() method\n",
        "\n",
        "ax=fig_add_axes([left,right,width,height])'''"
      ],
      "metadata": {
        "id": "YRcV2CscledM"
      },
      "execution_count": null,
      "outputs": []
    },
    {
      "cell_type": "code",
      "source": [
        "from matplotlib import pyplot as plt\n",
        "fig=plt.figure()\n",
        "ax=fig.add_axes([0,0,0.5,0.8])\n",
        "x_axis=[\"A\",\"B\",\"C\",\"D\"]\n",
        "y_axis=[90,80,70,60]\n",
        "ax.bar(x_axis,y_axis)\n",
        "plt.show()"
      ],
      "metadata": {
        "id": "mNLpEgmOnNwm"
      },
      "execution_count": null,
      "outputs": []
    },
    {
      "cell_type": "code",
      "source": [
        "#ex2:bar\n",
        "#visualize GDP_RATE aS X_AXIS, country names as y_axis\n",
        "from matplotlib import pyplot as plt, style\n",
        "fig=plt.figure()\n",
        "ax=fig.add_axes([0,0,0.2,0.2])\n",
        "x=[200,190,187,145,160]\n",
        "y=[\"IND\",\"CHINA\",\"USA\",\"UK\",\"PAK\"]\n",
        "ax.bar(x,y,color='c')\n",
        "plt.show()"
      ],
      "metadata": {
        "id": "ZyRSb7bbn8wL"
      },
      "execution_count": null,
      "outputs": []
    },
    {
      "cell_type": "code",
      "source": [
        "#ex3: supply and demand"
      ],
      "metadata": {
        "id": "OZINrTygolcB"
      },
      "execution_count": null,
      "outputs": []
    },
    {
      "cell_type": "code",
      "source": [
        "#ex4: engineering branches and aggregate percentages\n",
        "import matplotlib.pyplot as plt\n",
        "Branches = ['CSE','ECE','EEE','MECH','CIVIL']\n",
        "Agr_Percentages = [80,82,85,65,55]\n",
        "plt.bar(Branches,Agr_Percentages,color=['red','green','blue','yellow','orange'])\n",
        "plt.xlabel('BRANCHES')\n",
        "plt.ylabel('AGGREGATE PERCENTAGES')\n",
        "plt.title('BRANCHES VS AGGREGATE PERCENTAGES')\n",
        "plt.show()"
      ],
      "metadata": {
        "id": "fzeekfFPonwd"
      },
      "execution_count": null,
      "outputs": []
    },
    {
      "cell_type": "code",
      "source": [
        "#ex5: age and height\n",
        "from matplotlib import pyplot as plt\n",
        "\n",
        "fig = plt.figure()\n",
        "ax = fig.add_axes([0, 0, 0.2, 0.2])\n",
        "\n",
        "height = [200, 190, 187, 145, 160]\n",
        "age = [10, 15, 20, 25, 30]\n",
        "plt.xlabel('Age')\n",
        "plt.ylabel('Height')\n",
        "\n",
        "ax.bar(age, height, color='c')\n",
        "plt.show()"
      ],
      "metadata": {
        "id": "7TETKxhhouUv"
      },
      "execution_count": null,
      "outputs": []
    },
    {
      "cell_type": "code",
      "source": [
        "#method2: for above example\n",
        "import matplotlib.pyplot as plt\n",
        "# Create Data for age and height\n",
        "age = [10, 20, 30, 40, 50]\n",
        "height = [1.56, 1.64, 1.67, 1.55, 1.50]\n",
        "plt.figure(figsize=(8, 5))\n",
        "plt.bar(age, height, color='skyblue', label='Height (m)', alpha=0.6)\n",
        "plt.plot(age, height, color='orange', marker='o', label='Height Trend')\n",
        "plt.title(\"Age and Height\")\n",
        "plt.xlabel(\"Age (years)\")\n",
        "plt.ylabel(\"Height (meters)\")\n",
        "plt.legend()\n",
        "plt.grid()\n",
        "plt.show()"
      ],
      "metadata": {
        "id": "RS0cz9uYwYF_"
      },
      "execution_count": null,
      "outputs": []
    },
    {
      "cell_type": "code",
      "source": [
        "#sales and profit\n",
        "from matplotlib import pyplot as plt\n",
        "fig=plt.figure()\n",
        "ax=fig.add_axes([0,0,0.5,0.5])\n",
        "sales=[80,70,60,50]\n",
        "profit=[45,35,30,25]\n",
        "ax.bar(sales,profit)\n",
        "plt.show()"
      ],
      "metadata": {
        "id": "BKOUjYjqo1DZ"
      },
      "execution_count": null,
      "outputs": []
    },
    {
      "cell_type": "code",
      "source": [
        "#no.of hours studied and percentage marks obtain\n",
        "from matplotlib import pyplot as plt\n",
        "hours_studied=[3,4,5,6,7,8,10]\n",
        "marks_obtained=[40,50,60,70,80,90,100]\n",
        "fig=plt.figure()\n",
        "ax=fig.add_axes([0,0,0.9,0.6])\n",
        "plt.bar(hours_studied,marks_obtained,color=['red','green','blue','yellow','orange'])\n",
        "plt.show()"
      ],
      "metadata": {
        "id": "UqX3W-LRo5NM"
      },
      "execution_count": null,
      "outputs": []
    },
    {
      "cell_type": "code",
      "source": [
        "#ex: x_axes=days, y_axes=distance, label=BMW, label=audi\n",
        "from matplotlib import pyplot as plt\n",
        "days=[2,3,4,5,6,7,8]\n",
        "distance=[100,200,300,400,500,600,700]\n",
        "plt.bar(days,distance,label='BMW',color='r')\n",
        "days=[2,3,4,5,6,7,8]\n",
        "distance2=[80,70,60,90,50,78,80]\n",
        "plt.bar(days,distance2,label='Audi',color=\"k\")\n",
        "plt.legend()\n",
        "plt.xlabel('DAYS')\n",
        "plt.ylabel('DISTANCE')\n",
        "plt.title('DISTANCE VS DAYS')\n",
        "plt.show()"
      ],
      "metadata": {
        "id": "JpgB6rYQt2z9"
      },
      "execution_count": null,
      "outputs": []
    },
    {
      "cell_type": "code",
      "source": [],
      "metadata": {
        "id": "BwDTnRfywIo1"
      },
      "execution_count": null,
      "outputs": []
    },
    {
      "cell_type": "markdown",
      "source": [
        "# HISTOGRAM:\n",
        "    used to understand the distribution of a continuous numerical variables\n",
        "    --plot the age of the population with respectable bin\n",
        "    --bin refers to the range of the values that are divided into series of intervals.\n",
        "    --bins are usually created of the same size\n",
        "    "
      ],
      "metadata": {
        "id": "RakcBy_Uwn4S"
      }
    },
    {
      "cell_type": "code",
      "source": [
        "#ex:\n",
        "from matplotlib import pyplot as plt\n",
        "population_age=[22,55,62,45,46,47,48,49,50,21,22,34,42,42,4,99,102,110,120,121,122,130]\n",
        "bins=[0,10,20,30,40,50,60,70,80,90,100,110,120,130]\n",
        "plt.hist(population_age,bins,histtype='bar',rwidth=0.8)\n",
        "plt.xlabel('AGE')\n",
        "plt.ylabel('NUMBER OF PEOPLE')\n",
        "plt.title('HISTOGRAM FOR THE POPULATION SURVEY')\n",
        "plt.show()"
      ],
      "metadata": {
        "id": "6Pw1E83dyHmm"
      },
      "execution_count": null,
      "outputs": []
    },
    {
      "cell_type": "code",
      "source": [
        "import numpy as np\n",
        "import matplotlib.pyplot as plt\n",
        "np.random.seed(0)  # For reproducibility\n",
        "heights = np.random.normal(loc=170, scale=10, size=1000)  # Heights in cm (mean=170, std=10)\n",
        "temperatures = np.random.normal(loc=20, scale=5, size=1000)  # Temperatures in °C (mean=20, std=5)\n",
        "fig, axs = plt.subplots(2, 1, figsize=(10, 10))\n",
        "axs[0].hist(heights, bins=30, color='skyblue', edgecolor='black')\n",
        "axs[0].set_title('Height Distribution')\n",
        "axs[0].set_xlabel('Height (cm)')\n",
        "axs[0].set_ylabel('Frequency')\n",
        "axs[0].grid(axis='y')\n",
        "axs[1].hist(temperatures, bins=30, color='salmon', edgecolor='black')\n",
        "axs[1].set_title('Temperature Distribution')\n",
        "axs[1].set_xlabel('Temperature (°C)')\n",
        "axs[1].set_ylabel('Frequency')\n",
        "axs[1].grid(axis='y')\n",
        "plt.tight_layout()\n",
        "plt.show()"
      ],
      "metadata": {
        "id": "vJ9uf3fD0lV5"
      },
      "execution_count": null,
      "outputs": []
    },
    {
      "cell_type": "code",
      "source": [
        "#ex: histogram for weight\n",
        "from matplotlib import pyplot as plt\n",
        "weight=[30,40,45,46,47,52,55,60]\n",
        "bins=[25,35,45,55,65]\n",
        "plt.hist(weight,bins,histtype='bar',rwidth=0.8)\n",
        "plt.xlabel('WEIGHT')\n",
        "plt.ylabel('NUMBER OF PEOPLE')\n",
        "plt.title('HISTOGRAM FOR THE WEIGHT SURVEY')\n",
        "plt.show()"
      ],
      "metadata": {
        "id": "wWmzb8EK0pRJ"
      },
      "execution_count": null,
      "outputs": []
    },
    {
      "cell_type": "code",
      "source": [],
      "metadata": {
        "id": "6umqGC8ddugR"
      },
      "execution_count": null,
      "outputs": []
    },
    {
      "cell_type": "code",
      "source": [
        "#ex: histogran for temparature"
      ],
      "metadata": {
        "id": "b8ES60At0s70"
      },
      "execution_count": null,
      "outputs": []
    },
    {
      "cell_type": "code",
      "source": [
        "#ex: histogram for color(numeric values)"
      ],
      "metadata": {
        "id": "iJ__ZGnU0wpY"
      },
      "execution_count": null,
      "outputs": []
    }
  ]
}