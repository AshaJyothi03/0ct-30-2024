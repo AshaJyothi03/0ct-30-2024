{
  "cells": [
    {
      "cell_type": "markdown",
      "metadata": {
        "id": "view-in-github",
        "colab_type": "text"
      },
      "source": [
        "<a href=\"https://colab.research.google.com/github/AshaJyothi03/0ct-30-2024/blob/main/string_ds_assignments.ipynb\" target=\"_parent\"><img src=\"https://colab.research.google.com/assets/colab-badge.svg\" alt=\"Open In Colab\"/></a>"
      ]
    },
    {
      "cell_type": "markdown",
      "metadata": {
        "id": "pSTo94Hl0Zo2"
      },
      "source": [
        "Write a Python program to take a string input from the user and perform the\n",
        "following operations:\n",
        "   Convert the string to uppercase.\n",
        "   Count the number of vowels in the string.\n",
        "   Reverse the string."
      ]
    },
    {
      "cell_type": "code",
      "source": [
        "string=input(\"enter a string\")\n",
        "#convert the given string into upper case letters\n",
        "print(string.upper())\n",
        "print(string.lower())\n",
        "print(string.swapcase())\n",
        "print(string.title())"
      ],
      "metadata": {
        "id": "ScMigprzccXM",
        "outputId": "4aacab4b-ed3f-48bd-f0a6-090201846d8f",
        "colab": {
          "base_uri": "https://localhost:8080/"
        }
      },
      "execution_count": null,
      "outputs": [
        {
          "output_type": "stream",
          "name": "stdout",
          "text": [
            "enter a stringalladi cloud\n",
            "ALLADI CLOUD\n",
            "alladi cloud\n",
            "ALLADI CLOUD\n",
            "Alladi Cloud\n"
          ]
        }
      ]
    },
    {
      "cell_type": "code",
      "source": [
        "#count vowels in a given string\n",
        "text1=input(\"enter a string:\")\n",
        "count=0\n",
        "for i in text1:\n",
        "  if i in \"aeiouAEIOU\":\n",
        "    count+=1\n",
        "print(count)"
      ],
      "metadata": {
        "colab": {
          "base_uri": "https://localhost:8080/"
        },
        "id": "q23TPjjCfl19",
        "outputId": "f3ed2eef-3d33-4d97-a766-6308f7ea6075"
      },
      "execution_count": null,
      "outputs": [
        {
          "output_type": "stream",
          "name": "stdout",
          "text": [
            "enter a string:hello  world\n",
            "3\n"
          ]
        }
      ]
    },
    {
      "cell_type": "code",
      "source": [
        "#python program to reverse string\n",
        "text2=input(\"enter a string:\")\n",
        "print(text2[::-1])"
      ],
      "metadata": {
        "colab": {
          "base_uri": "https://localhost:8080/"
        },
        "id": "n_L8dZ5hg0bH",
        "outputId": "b3e51670-a9ae-4e5b-8649-cb342a870dab"
      },
      "execution_count": null,
      "outputs": [
        {
          "output_type": "stream",
          "name": "stdout",
          "text": [
            "enter a string:mnmnm\n",
            "mnmnm\n"
          ]
        }
      ]
    },
    {
      "cell_type": "code",
      "source": [
        "#write a python to check given string palindrome or not\n",
        "text=input(\"enter a string:\")\n",
        "#madam #mam, #dad, #liril #eye #malayalam\n",
        "if text==text[::-1]:\n",
        "  print(\"given string is palindrome\")\n",
        "else:\n",
        "  print(\"given string is not palindrome\")"
      ],
      "metadata": {
        "colab": {
          "base_uri": "https://localhost:8080/"
        },
        "id": "QdLwgTyahfEu",
        "outputId": "97a9d5d2-9325-4589-aa3d-c0ce1c3fe93e"
      },
      "execution_count": null,
      "outputs": [
        {
          "output_type": "stream",
          "name": "stdout",
          "text": [
            "enter a string:madam\n",
            "given string is palindrome\n"
          ]
        }
      ]
    },
    {
      "cell_type": "code",
      "source": [
        "#string handling functions\n",
        "#write a python program to concatenate first name name and lastname and surname\n",
        "f_name=\"mallesh \"\n",
        "s_name=\"alladi \"\n",
        "l_name=\"kalva \"\n",
        "print(f_name+l_name+s_name)"
      ],
      "metadata": {
        "colab": {
          "base_uri": "https://localhost:8080/"
        },
        "id": "fKBSkH5PW5U7",
        "outputId": "c0a62a57-db54-4250-c355-e746311f25a7"
      },
      "execution_count": null,
      "outputs": [
        {
          "output_type": "stream",
          "name": "stdout",
          "text": [
            "mallesh kalva alladi \n"
          ]
        }
      ]
    },
    {
      "cell_type": "code",
      "source": [
        "#python to check given substring exist or not\n",
        "text=\"software is application of knowledge which is derived from the applications employed\"\n",
        "print(\"application\" in text)"
      ],
      "metadata": {
        "colab": {
          "base_uri": "https://localhost:8080/"
        },
        "id": "m8NTs29Xataz",
        "outputId": "24657804-df36-4f60-83eb-b3b0175c4e9e"
      },
      "execution_count": null,
      "outputs": [
        {
          "output_type": "stream",
          "name": "stdout",
          "text": [
            "True\n"
          ]
        }
      ]
    },
    {
      "cell_type": "code",
      "source": [
        "#write a python program to print repetedly a perticular string as many no.of times u want\n",
        "str=\"hello\"\n",
        "print(str*5)"
      ],
      "metadata": {
        "colab": {
          "base_uri": "https://localhost:8080/"
        },
        "id": "CSyyZG4VbWBH",
        "outputId": "2899be62-5f59-4663-e798-c701ed414fef"
      },
      "execution_count": null,
      "outputs": [
        {
          "output_type": "stream",
          "name": "stdout",
          "text": [
            "hellohellohellohellohello\n"
          ]
        }
      ]
    },
    {
      "cell_type": "markdown",
      "metadata": {
        "id": "yQhsLfyb0rro"
      },
      "source": [
        "Write a Python program to check if a given string is a palindrome.\n",
        "  A string is a palindrome if it reads the same forward and backward"
      ]
    },
    {
      "cell_type": "code",
      "execution_count": null,
      "metadata": {
        "id": "WqPmVxPK0ywv"
      },
      "outputs": [],
      "source": [
        "text=input(\"enter a string:\")\n",
        "if text==text[::-1]:\n",
        "  print(\"given string is palindrome\")\n",
        "else:\n",
        "  print(\"given string is not palindrome\")"
      ]
    },
    {
      "cell_type": "markdown",
      "metadata": {
        "id": "YqM5XRvu00uo"
      },
      "source": [
        "Write a Python program to count the number of words in a given sentence"
      ]
    },
    {
      "cell_type": "code",
      "execution_count": null,
      "metadata": {
        "id": "yeCny7zT06IP",
        "colab": {
          "base_uri": "https://localhost:8080/"
        },
        "outputId": "605ff3e7-1b5e-4455-f11a-6b943d86d275"
      },
      "outputs": [
        {
          "output_type": "stream",
          "name": "stdout",
          "text": [
            "12\n"
          ]
        }
      ],
      "source": [
        "text=\"software is application of knowledge which is derived from the applications employed\"\n",
        "print(len(text.split()))"
      ]
    },
    {
      "cell_type": "code",
      "source": [
        "date1=\"20 10 2022\"\n",
        "date1.split()"
      ],
      "metadata": {
        "colab": {
          "base_uri": "https://localhost:8080/"
        },
        "id": "v0wotuj0jTOa",
        "outputId": "e95af115-b15c-4e4d-dd6b-e38a36f2956f"
      },
      "execution_count": null,
      "outputs": [
        {
          "output_type": "execute_result",
          "data": {
            "text/plain": [
              "['20', '10', '2022']"
            ]
          },
          "metadata": {},
          "execution_count": 19
        }
      ]
    },
    {
      "cell_type": "code",
      "source": [
        "#write a python program to print reverse of each word in larger string\n",
        "str=\"software is application of knowledge which is derived from the applications employed\"\n",
        "temp=str.split()\n",
        "for i in temp:\n",
        "  print(i[::-1],end=\" \")"
      ],
      "metadata": {
        "colab": {
          "base_uri": "https://localhost:8080/"
        },
        "id": "rV2BJGuGljh2",
        "outputId": "cd4b83bd-63ed-4614-978e-93ba2f92012f"
      },
      "execution_count": null,
      "outputs": [
        {
          "output_type": "stream",
          "name": "stdout",
          "text": [
            "erawtfos si noitacilppa fo egdelwonk hcihw si devired morf eht snoitacilppa deyolpme "
          ]
        }
      ]
    },
    {
      "cell_type": "markdown",
      "metadata": {
        "id": "Ugj-Hnud0_7D"
      },
      "source": [
        " Write a Python program to find the longest word in a string"
      ]
    },
    {
      "cell_type": "code",
      "execution_count": null,
      "metadata": {
        "id": "wdAGprO11BFD",
        "colab": {
          "base_uri": "https://localhost:8080/"
        },
        "outputId": "481fff8d-6722-4e2e-c0b4-39a85f5d3b55"
      },
      "outputs": [
        {
          "output_type": "stream",
          "name": "stdout",
          "text": [
            "applications\n"
          ]
        }
      ],
      "source": [
        "text=\"software is application of knowledge which is derived from the applications employed\"\n",
        "temp=text.split()\n",
        "print(max(temp,key=len))"
      ]
    },
    {
      "cell_type": "markdown",
      "metadata": {
        "id": "UUbD22uM1EIX"
      },
      "source": [
        "Write a Python program to remove all punctuation from a given string"
      ]
    },
    {
      "cell_type": "code",
      "execution_count": null,
      "metadata": {
        "id": "Ilj5UGLJ1He0",
        "colab": {
          "base_uri": "https://localhost:8080/"
        },
        "outputId": "fddda1cc-8334-4fbd-b63c-09254b53c80e"
      },
      "outputs": [
        {
          "output_type": "stream",
          "name": "stdout",
          "text": [
            "software is application of knowledge which is derived from the applications employed\n"
          ]
        }
      ],
      "source": [
        "text=\"software is application of knowledge which is derived from the applications employed\"\n",
        "punc='''!()-[]{};:'\"\\,<>./?@#$%^&*_~'''\n",
        "for i in text:\n",
        "  if i in punc:\n",
        "    text=text.replace(i,\"\")\n",
        "print(text)"
      ]
    },
    {
      "cell_type": "markdown",
      "metadata": {
        "id": "tsaZiipR1Lhr"
      },
      "source": [
        "Write a Python program to count the frequency of each character in a string."
      ]
    },
    {
      "cell_type": "code",
      "execution_count": null,
      "metadata": {
        "id": "nUDg_jyX1MM1",
        "colab": {
          "base_uri": "https://localhost:8080/"
        },
        "outputId": "c80ac3b1-7c11-40ca-b9e9-fa9cf1916b6a"
      },
      "outputs": [
        {
          "output_type": "stream",
          "name": "stdout",
          "text": [
            "{'s': 4, 'o': 7, 'f': 3, 't': 4, 'w': 3, 'a': 5, 'r': 3, 'e': 8, ' ': 11, 'i': 8, 'p': 5, 'l': 4, 'c': 3, 'n': 3, 'k': 1, 'd': 4, 'g': 1, 'h': 3, 'v': 1, 'm': 2, 'y': 1}\n"
          ]
        }
      ],
      "source": [
        "text=\"software is application of knowledge which is derived from the applications employed\"\n",
        "freq={}\n",
        "for i in text:\n",
        "  if i in freq:\n",
        "    freq[i]+=1\n",
        "  else:\n",
        "    freq[i]=1\n",
        "print(freq)"
      ]
    },
    {
      "cell_type": "markdown",
      "metadata": {
        "id": "VUL2vfDK1Mka"
      },
      "source": [
        "Write a Python program to replace all occurrences of a substring in a string\n",
        "with another substring."
      ]
    },
    {
      "cell_type": "code",
      "execution_count": null,
      "metadata": {
        "id": "tUFrXLuB1Psc",
        "colab": {
          "base_uri": "https://localhost:8080/"
        },
        "outputId": "ef21607a-92f3-4d53-90fa-25fdd30ed5cf"
      },
      "outputs": [
        {
          "output_type": "stream",
          "name": "stdout",
          "text": [
            "application is application of knowledge which is derived from the applications employed\n"
          ]
        }
      ],
      "source": [
        "text=\"software is application of knowledge which is derived from the applications employed\"\n",
        "print(text.replace(\"software\",\"application\"))"
      ]
    },
    {
      "cell_type": "markdown",
      "metadata": {
        "id": "pW9mpMWd1QJB"
      },
      "source": [
        "Write a Python program to replace all occurrences of a substring in a string\n",
        "with another substring."
      ]
    },
    {
      "cell_type": "code",
      "execution_count": null,
      "metadata": {
        "id": "7PeX-H451Z4h"
      },
      "outputs": [],
      "source": [
        "text=\"pooja is a analyst\"\n",
        "print(text.replace(\"is\",\"it\"))"
      ]
    },
    {
      "cell_type": "markdown",
      "metadata": {
        "id": "KW5rSiZS1aQL"
      },
      "source": [
        "Write a Python program to find the position (index) of the first occurrence of a\n",
        "substring in a string. If the substring is not found, return -1."
      ]
    },
    {
      "cell_type": "code",
      "execution_count": null,
      "metadata": {
        "id": "mn2PDB961eyE",
        "colab": {
          "base_uri": "https://localhost:8080/"
        },
        "outputId": "3e737fe6-a3e1-4849-fae4-d226f7eea062"
      },
      "outputs": [
        {
          "output_type": "stream",
          "name": "stdout",
          "text": [
            "9\n"
          ]
        }
      ],
      "source": [
        "text=\"software is application of knowledge which is derived from the applications employed\"\n",
        "find_var=input(\"enter a substring:\")\n",
        "if find_var in text:\n",
        "  print(text.index(find_var))\n",
        "else:\n",
        "  print(\"-1\")\n"
      ]
    },
    {
      "cell_type": "markdown",
      "metadata": {
        "id": "SaHWVpfE1fe1"
      },
      "source": [
        "Write a Python program to split a string on spaces and join it back together\n",
        "using hyphens (-)."
      ]
    },
    {
      "cell_type": "code",
      "execution_count": null,
      "metadata": {
        "id": "kjsTETXT1ifR",
        "colab": {
          "base_uri": "https://localhost:8080/"
        },
        "outputId": "d0c70052-4b8d-43d4-d16e-7283195ea103"
      },
      "outputs": [
        {
          "output_type": "stream",
          "name": "stdout",
          "text": [
            "Enter a string: sai ram\n",
            "['sai', 'ram']\n",
            "sai-ram\n"
          ]
        }
      ],
      "source": [
        "string = input(\"Enter a string: \")\n",
        "res = string.split()\n",
        "print(res)\n",
        "print(\"-\".join(res))"
      ]
    },
    {
      "cell_type": "markdown",
      "metadata": {
        "id": "WPWmbjor1ipQ"
      },
      "source": [
        "Count the number of vowels in a string."
      ]
    },
    {
      "cell_type": "code",
      "execution_count": null,
      "metadata": {
        "id": "WHSE3a091qx1",
        "colab": {
          "base_uri": "https://localhost:8080/"
        },
        "outputId": "1803fee7-b318-42f7-d463-23e2d37f0690"
      },
      "outputs": [
        {
          "output_type": "stream",
          "name": "stdout",
          "text": [
            "Enter a string: sky\n",
            "No.of vowels in string is:  0\n"
          ]
        }
      ],
      "source": [
        "string = input(\"Enter a string: \")\n",
        "vowels = 0\n",
        "for i in string:\n",
        "    if i in \"aeiouAEIOU\":\n",
        "        vowels += 1\n",
        "print(\"No.of vowels in string is: \", vowels)"
      ]
    },
    {
      "cell_type": "markdown",
      "metadata": {
        "id": "P4lCkk4I12aG"
      },
      "source": [
        "Find the first non-repeated character in a string."
      ]
    },
    {
      "cell_type": "code",
      "execution_count": null,
      "metadata": {
        "id": "RYQK16aF13KD",
        "colab": {
          "base_uri": "https://localhost:8080/"
        },
        "outputId": "acb48c98-21ed-4c2c-bac0-a6b2aef7577b"
      },
      "outputs": [
        {
          "output_type": "stream",
          "name": "stdout",
          "text": [
            "Enter a string: asha\n",
            "First non-repeated character is:  s\n"
          ]
        }
      ],
      "source": [
        "#Find the first non-repeated characters in a string.\n",
        "string = input(\"Enter a string: \")\n",
        "for i in string:\n",
        "    if string.count(i)==1:\n",
        "        print(\"First non-repeated character is: \", i)\n",
        "        break\n"
      ]
    },
    {
      "cell_type": "markdown",
      "metadata": {
        "id": "bT0G8O7313cr"
      },
      "source": [
        "Remove all duplicates from a string."
      ]
    },
    {
      "cell_type": "code",
      "execution_count": null,
      "metadata": {
        "id": "_z89720v18rX"
      },
      "outputs": [],
      "source": [
        "string = input(\"Enter a string: \")\n",
        "res = \"\"\n",
        "for i in string:\n",
        "    if i not in res:\n",
        "        res += i\n",
        "print(\"String after removing duplicates: \", res)"
      ]
    },
    {
      "cell_type": "markdown",
      "metadata": {
        "id": "YCSJhuHh19CL"
      },
      "source": [
        "Check if two strings are anagrams of each other."
      ]
    },
    {
      "cell_type": "code",
      "execution_count": null,
      "metadata": {
        "id": "q1MkDewo2Gv6",
        "colab": {
          "base_uri": "https://localhost:8080/"
        },
        "outputId": "478230a0-49ea-4e59-839d-072db7c4f99d"
      },
      "outputs": [
        {
          "output_type": "stream",
          "name": "stdout",
          "text": [
            "Enter a string: bad\n",
            "Enter a string: dab\n",
            "Strings are anagrams\n"
          ]
        }
      ],
      "source": [
        "string1 = input(\"Enter a string: \")\n",
        "string2 = input(\"Enter a string: \")\n",
        "if sorted(string1) == sorted(string2):\n",
        "    print(\"Strings are anagrams\")\n",
        "else:\n",
        "    print(\"Strings are not anagrams\")"
      ]
    },
    {
      "cell_type": "markdown",
      "metadata": {
        "id": "XIwsLAym2Hxv"
      },
      "source": [
        " Find all the permutations of a string."
      ]
    },
    {
      "cell_type": "code",
      "source": [],
      "metadata": {
        "id": "ABO05SzXwglW"
      },
      "execution_count": null,
      "outputs": []
    },
    {
      "cell_type": "markdown",
      "metadata": {
        "id": "y7EJrj302Qs4"
      },
      "source": [
        "Find the most frequent character in a string."
      ]
    },
    {
      "cell_type": "code",
      "execution_count": null,
      "metadata": {
        "id": "vy9hnZJZ2UUu"
      },
      "outputs": [],
      "source": []
    },
    {
      "cell_type": "markdown",
      "metadata": {
        "id": "VXL-JN4u2UeW"
      },
      "source": [
        ". Convert a string to an integer without using int() function (string to\n",
        "integer conversion)."
      ]
    },
    {
      "cell_type": "code",
      "execution_count": null,
      "metadata": {
        "id": "elzy8VVM3brt"
      },
      "outputs": [],
      "source": []
    }
  ],
  "metadata": {
    "colab": {
      "provenance": [],
      "include_colab_link": true
    },
    "kernelspec": {
      "display_name": "Python 3",
      "name": "python3"
    },
    "language_info": {
      "name": "python"
    }
  },
  "nbformat": 4,
  "nbformat_minor": 0
}